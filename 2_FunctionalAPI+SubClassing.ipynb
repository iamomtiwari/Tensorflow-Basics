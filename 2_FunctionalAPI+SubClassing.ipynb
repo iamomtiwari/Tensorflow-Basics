{
  "nbformat": 4,
  "nbformat_minor": 0,
  "metadata": {
    "colab": {
      "provenance": [],
      "authorship_tag": "ABX9TyN3dXJNTffqRF48rjrvQbdB",
      "include_colab_link": true
    },
    "kernelspec": {
      "name": "python3",
      "display_name": "Python 3"
    },
    "language_info": {
      "name": "python"
    }
  },
  "cells": [
    {
      "cell_type": "markdown",
      "metadata": {
        "id": "view-in-github",
        "colab_type": "text"
      },
      "source": [
        "<a href=\"https://colab.research.google.com/github/iamomtiwari/Tensorflow-Basics/blob/main/2_FunctionalAPI%2BSubClassing.ipynb\" target=\"_parent\"><img src=\"https://colab.research.google.com/assets/colab-badge.svg\" alt=\"Open In Colab\"/></a>"
      ]
    },
    {
      "cell_type": "code",
      "execution_count": 1,
      "metadata": {
        "id": "RaplqRZygrZH"
      },
      "outputs": [],
      "source": [
        "import numpy as np\n",
        "import tensorflow as tf\n",
        "from tensorflow import keras\n",
        "from tensorflow.keras import Sequential, layers\n",
        "from tensorflow.keras.datasets import mnist"
      ]
    },
    {
      "cell_type": "code",
      "source": [
        "(x_train,y_train),(x_test,y_test)=mnist.load_data()"
      ],
      "metadata": {
        "colab": {
          "base_uri": "https://localhost:8080/"
        },
        "id": "6fTL5456hA0J",
        "outputId": "a82d4124-6dfb-43a4-f4d0-3bc79dcef082"
      },
      "execution_count": 2,
      "outputs": [
        {
          "output_type": "stream",
          "name": "stdout",
          "text": [
            "Downloading data from https://storage.googleapis.com/tensorflow/tf-keras-datasets/mnist.npz\n",
            "\u001b[1m11490434/11490434\u001b[0m \u001b[32m━━━━━━━━━━━━━━━━━━━━\u001b[0m\u001b[37m\u001b[0m \u001b[1m0s\u001b[0m 0us/step\n"
          ]
        }
      ]
    },
    {
      "cell_type": "code",
      "source": [
        "x_train=x_train.reshape(-1,28*28)/255.0 #flattening it\n",
        "x_test=x_test.reshape(-1,28*28)/255.0"
      ],
      "metadata": {
        "id": "SDT1jnD9hhRB"
      },
      "execution_count": 3,
      "outputs": []
    },
    {
      "cell_type": "code",
      "source": [
        "from sklearn.model_selection import train_test_split\n",
        "x_train,x_val,y_train,y_val=train_test_split(x_train,y_train,test_size=0.25,random_state=42)"
      ],
      "metadata": {
        "id": "JldYxmxChzch"
      },
      "execution_count": 4,
      "outputs": []
    },
    {
      "cell_type": "markdown",
      "source": [
        "🔷 Explanation:\n",
        "1️⃣ train_test_split(...)\n",
        "This function randomly splits arrays (or matrices) into two sets — in your case:\n",
        "\n",
        "Training set (x_train, y_train)\n",
        "\n",
        "Validation set (x_val, y_val)\n",
        "\n",
        "2️⃣ Parameters:\n",
        "Parameter\tMeaning\n",
        "x_train, y_train\tThe data and labels you're splitting (original training data).\n",
        "test_size=0.25\t25% of the data will be used for validation (x_val, y_val), and 75% remains in x_train, y_train.\n",
        "random_state=True\tEnsures reproducibility of the split — but True is not a valid value. You should use an integer, like random_state=42."
      ],
      "metadata": {
        "id": "Wr2vP4XritsW"
      }
    },
    {
      "cell_type": "code",
      "source": [
        "#Functional API\n",
        "inputs=keras.Input(shape=(784,))\n",
        "x=layers.Dense(512,activation='relu',name='first_hidden_layer')(inputs)\n",
        "x=layers.Dense(256,activation='relu',name='second_hidden_layer')(x)\n",
        "outputs=layers.Dense(10,activation='softmax',name='output_layer')(x)\n",
        "model=keras.Model(inputs=inputs,outputs=outputs)\n"
      ],
      "metadata": {
        "id": "P5NuVoLiimcA"
      },
      "execution_count": 5,
      "outputs": []
    },
    {
      "cell_type": "markdown",
      "source": [
        "1️⃣ inputs = keras.Input(shape=(784,))\n",
        "Defines the input layer.\n",
        "\n",
        "shape=(784,) means each input sample is a vector of 784 values (28×28 pixels flattened from MNIST images).\n",
        "\n",
        "2️⃣ x = layers.Dense(512, activation='relu')(inputs)\n",
        "First hidden layer with:\n",
        "\n",
        "512 neurons\n",
        "\n",
        "ReLU activation function\n",
        "\n",
        "It takes the input from the inputs layer.\n",
        "\n",
        "3️⃣ x = layers.Dense(256, activation='relu')(x)\n",
        "Second hidden layer:\n",
        "\n",
        "256 neurons\n",
        "\n",
        "ReLU activation\n",
        "\n",
        "It takes the output from the first hidden layer as input.\n",
        "\n",
        "4️⃣ outputs = layers.Dense(10, activation='softmax')(x)\n",
        "Output layer:\n",
        "\n",
        "10 neurons (for digits 0–9 in MNIST)\n",
        "\n",
        "Softmax activation to output class probabilities\n",
        "\n",
        "5️⃣ model = keras.Model(inputs=inputs, outputs=outputs)\n",
        "Combines everything into a Model object.\n",
        "\n",
        "This is your final model ready for compiling and training.\n",
        "\n",
        "🧩 Why Use Functional API?\n",
        "Compared to Sequential, the Functional API:\n",
        "\n",
        "Allows for more flexible models (e.g., multi-input/output, branching).\n",
        "\n",
        "Useful when you're building models with shared layers, residual connections, or custom architectures.\n",
        "\n"
      ],
      "metadata": {
        "id": "-ETyKV-fj_mt"
      }
    },
    {
      "cell_type": "code",
      "source": [
        "model.compile(loss=keras.losses.SparseCategoricalCrossentropy(),\n",
        "              optimizer=keras.optimizers.Adam(learning_rate=0.001),\n",
        "              metrics=['accuracy']\n",
        "              )"
      ],
      "metadata": {
        "id": "tLT0nRJgkAhU"
      },
      "execution_count": 6,
      "outputs": []
    },
    {
      "cell_type": "code",
      "source": [
        "model.fit(x_train,y_train,epochs=5,verbose=2,batch_size=64,validation_data=(x_val,y_val))"
      ],
      "metadata": {
        "colab": {
          "base_uri": "https://localhost:8080/"
        },
        "id": "5WwzWLUmkjFO",
        "outputId": "84eea7b7-9cca-413c-fc0d-8cc03a03c5bf"
      },
      "execution_count": 7,
      "outputs": [
        {
          "output_type": "stream",
          "name": "stdout",
          "text": [
            "Epoch 1/5\n",
            "704/704 - 9s - 13ms/step - accuracy: 0.9336 - loss: 0.2232 - val_accuracy: 0.9619 - val_loss: 0.1271\n",
            "Epoch 2/5\n",
            "704/704 - 9s - 13ms/step - accuracy: 0.9719 - loss: 0.0882 - val_accuracy: 0.9708 - val_loss: 0.0952\n",
            "Epoch 3/5\n",
            "704/704 - 9s - 12ms/step - accuracy: 0.9822 - loss: 0.0554 - val_accuracy: 0.9714 - val_loss: 0.0954\n",
            "Epoch 4/5\n",
            "704/704 - 9s - 13ms/step - accuracy: 0.9874 - loss: 0.0406 - val_accuracy: 0.9725 - val_loss: 0.0959\n",
            "Epoch 5/5\n",
            "704/704 - 9s - 13ms/step - accuracy: 0.9897 - loss: 0.0315 - val_accuracy: 0.9757 - val_loss: 0.0848\n"
          ]
        },
        {
          "output_type": "execute_result",
          "data": {
            "text/plain": [
              "<keras.src.callbacks.history.History at 0x7fdacc6188d0>"
            ]
          },
          "metadata": {},
          "execution_count": 7
        }
      ]
    },
    {
      "cell_type": "code",
      "source": [
        "model.evaluate(x_test,y_test)"
      ],
      "metadata": {
        "colab": {
          "base_uri": "https://localhost:8080/"
        },
        "id": "ZFkkuOMmk455",
        "outputId": "877becb2-41d0-4dcf-c4c7-4538220114ed"
      },
      "execution_count": 8,
      "outputs": [
        {
          "output_type": "stream",
          "name": "stdout",
          "text": [
            "\u001b[1m313/313\u001b[0m \u001b[32m━━━━━━━━━━━━━━━━━━━━\u001b[0m\u001b[37m\u001b[0m \u001b[1m1s\u001b[0m 4ms/step - accuracy: 0.9745 - loss: 0.0939\n"
          ]
        },
        {
          "output_type": "execute_result",
          "data": {
            "text/plain": [
              "[0.08063526451587677, 0.9771999716758728]"
            ]
          },
          "metadata": {},
          "execution_count": 8
        }
      ]
    },
    {
      "cell_type": "code",
      "source": [
        "#sub classing\n",
        "class MyModel(keras.Model):#This defines a new class called MyModel thart inherits from keras.Model\n",
        "  def __init__(self,num_classes=10):#constructor of MyModel Class\n",
        "    super(MyModel,self).__init__()#class the constructor of the parent class (keras.Model) to intilialize functionality.\n",
        "    #init method initializes the model's layers and other components.\n",
        "    self.dense1=layers.Dense(512,activation='relu')\n",
        "    self.dense2=layers.Dense(256,activation='relu')\n",
        "    self.dense3=layers.Dense(num_classes)\n",
        "  def call(self,inputs):#this method defines how the model processes input data.\n",
        "    x=self.dense1(inputs) #this line passes the inputs to the first dense layer (elf.dense1) and stores the output in the variable x.\n",
        "    x=self.dense2(x)\n",
        "    x=self.dense3(x)\n",
        "    return x #the output of the final layer is returned as the model's prediction."
      ],
      "metadata": {
        "id": "OOthiCL-k_rb"
      },
      "execution_count": 11,
      "outputs": []
    },
    {
      "cell_type": "markdown",
      "source": [
        "Line-by-Line Explanation:\n",
        "🔹 class MyModel(keras.Model):\n",
        "You're creating a custom model by subclassing keras.Model.\n",
        "\n",
        "This gives you full control over the model’s architecture and forward pass.\n",
        "\n",
        "🔹 def __init__(self, num_classes=10):\n",
        "Constructor where you define model layers.\n",
        "\n",
        "num_classes=10 assumes you're working with MNIST or any 10-class classification task.\n",
        "\n",
        "🔹 super(MyModel, self).__init__()\n",
        "This calls the constructor of the parent class (keras.Model).\n",
        "\n",
        "Ensures all internal model mechanisms are correctly initialized.\n",
        "\n",
        "🔹 self.dense1 = layers.Dense(512, activation='relu')\n",
        "First hidden layer with 512 neurons and ReLU activation.\n",
        "\n",
        "🔹 self.dense2 = layers.Dense(256, activation='relu')\n",
        "Second hidden layer with 256 neurons.\n",
        "\n",
        "🔹 self.dense3 = layers.Dense(num_classes, activation='softmax')\n",
        "Final layer with num_classes outputs (e.g., 10).\n",
        "\n",
        "Uses softmax to return class probabilities.\n",
        "\n",
        "\n",
        "🔹 def call(self, inputs):\n",
        "This defines the forward pass of the model.\n",
        "\n",
        "When you run model(input_data), this method is called.\n",
        "\n",
        "🔹 Inside call(...):\n",
        "python\n",
        "Copy code\n",
        "x = self.dense1(inputs)\n",
        "x = self.dense2(x)\n",
        "x = self.dense3(x)\n",
        "return x\n",
        "Passes input through each layer in order.\n",
        "\n",
        "Outputs the final prediction (class probabilities).\n",
        "\n",
        "\n"
      ],
      "metadata": {
        "id": "N4WJn9pOLn5Q"
      }
    },
    {
      "cell_type": "code",
      "source": [
        "modelclass=MyModel()\n",
        "#creating an instance of the MyModel class and assigning it to the variable model1.\n",
        "#This creates an actual object (the neural network) and stores it in the variable model1."
      ],
      "metadata": {
        "id": "WyXhGGu0LdID"
      },
      "execution_count": 13,
      "outputs": []
    },
    {
      "cell_type": "code",
      "source": [
        "modelclass.compile(loss=keras.losses.SparseCategoricalCrossentropy(from_logits=True),optimizer=keras.optimizers.Adam(learning_rate=0.001),metrics=['accuracy'])"
      ],
      "metadata": {
        "id": "_s2qHQ4BMcKK"
      },
      "execution_count": 18,
      "outputs": []
    },
    {
      "cell_type": "code",
      "source": [
        "modelclass.fit(x_train,y_train,epochs=5,verbose=2,batch_size=64,validation_data=(x_val,y_val))"
      ],
      "metadata": {
        "colab": {
          "base_uri": "https://localhost:8080/"
        },
        "id": "lOTzqN1sNBxk",
        "outputId": "16d59564-1d8f-41ba-cd6b-cafa78e0c75a"
      },
      "execution_count": 19,
      "outputs": [
        {
          "output_type": "stream",
          "name": "stdout",
          "text": [
            "Epoch 1/5\n",
            "704/704 - 12s - 17ms/step - accuracy: 0.9334 - loss: 0.2254 - val_accuracy: 0.9633 - val_loss: 0.1168\n",
            "Epoch 2/5\n",
            "704/704 - 10s - 14ms/step - accuracy: 0.9735 - loss: 0.0879 - val_accuracy: 0.9698 - val_loss: 0.0973\n",
            "Epoch 3/5\n",
            "704/704 - 9s - 13ms/step - accuracy: 0.9824 - loss: 0.0560 - val_accuracy: 0.9705 - val_loss: 0.0994\n",
            "Epoch 4/5\n",
            "704/704 - 7s - 10ms/step - accuracy: 0.9873 - loss: 0.0398 - val_accuracy: 0.9754 - val_loss: 0.0901\n",
            "Epoch 5/5\n",
            "704/704 - 11s - 16ms/step - accuracy: 0.9898 - loss: 0.0315 - val_accuracy: 0.9721 - val_loss: 0.1042\n"
          ]
        },
        {
          "output_type": "execute_result",
          "data": {
            "text/plain": [
              "<keras.src.callbacks.history.History at 0x7fdabf790490>"
            ]
          },
          "metadata": {},
          "execution_count": 19
        }
      ]
    },
    {
      "cell_type": "code",
      "source": [
        "model.evaluate(x_test,y_test)"
      ],
      "metadata": {
        "colab": {
          "base_uri": "https://localhost:8080/"
        },
        "id": "jXc8A0H5NQz-",
        "outputId": "309c9ae2-1dbd-4cb3-c3be-3d11505f6341"
      },
      "execution_count": 20,
      "outputs": [
        {
          "output_type": "stream",
          "name": "stdout",
          "text": [
            "\u001b[1m313/313\u001b[0m \u001b[32m━━━━━━━━━━━━━━━━━━━━\u001b[0m\u001b[37m\u001b[0m \u001b[1m2s\u001b[0m 5ms/step - accuracy: 0.9745 - loss: 0.0939\n"
          ]
        },
        {
          "output_type": "execute_result",
          "data": {
            "text/plain": [
              "[0.08063526451587677, 0.9771999716758728]"
            ]
          },
          "metadata": {},
          "execution_count": 20
        }
      ]
    }
  ]
}