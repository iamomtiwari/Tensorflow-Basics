{
  "nbformat": 4,
  "nbformat_minor": 0,
  "metadata": {
    "colab": {
      "provenance": [],
      "authorship_tag": "ABX9TyPAXryi22jXHlurir01vQ8I",
      "include_colab_link": true
    },
    "kernelspec": {
      "name": "python3",
      "display_name": "Python 3"
    },
    "language_info": {
      "name": "python"
    }
  },
  "cells": [
    {
      "cell_type": "markdown",
      "metadata": {
        "id": "view-in-github",
        "colab_type": "text"
      },
      "source": [
        "<a href=\"https://colab.research.google.com/github/iamomtiwari/Tensorflow-Basics/blob/main/4_CNN_Subclassing.ipynb\" target=\"_parent\"><img src=\"https://colab.research.google.com/assets/colab-badge.svg\" alt=\"Open In Colab\"/></a>"
      ]
    },
    {
      "cell_type": "code",
      "execution_count": 2,
      "metadata": {
        "id": "1NGD0WjLHoQw"
      },
      "outputs": [],
      "source": [
        "import tensorflow as tf\n",
        "from tensorflow import keras\n",
        "from tensorflow.keras import layers,Sequential\n",
        "from tensorflow.keras.layers import Dense,Conv2D, MaxPooling2D,BatchNormalization\n",
        "from tensorflow.keras.datasets import cifar10"
      ]
    },
    {
      "cell_type": "markdown",
      "source": [
        "\n",
        "\n",
        "---\n",
        "\n",
        "### ✅ Code Breakdown:\n",
        "\n",
        "```python\n",
        "import tensorflow as tf\n",
        "```\n",
        "\n",
        "* Imports the **TensorFlow library**, which is a powerful open-source platform for machine learning and deep learning.\n",
        "\n",
        "---\n",
        "\n",
        "```python\n",
        "from tensorflow import keras\n",
        "```\n",
        "\n",
        "* Imports the **Keras API** from TensorFlow, used to build and train neural networks easily.\n",
        "\n",
        "---\n",
        "\n",
        "```python\n",
        "from tensorflow.keras import layers, Sequential\n",
        "```\n",
        "\n",
        "* `layers`: Shortcut to access all types of layers (e.g., Dense, Conv2D, etc.).\n",
        "* `Sequential`: A model-building class that stacks layers linearly — each layer has exactly one input and one output.\n",
        "\n",
        "---\n",
        "\n",
        "```python\n",
        "from tensorflow.keras.layers import Dense, Conv2D, MaxPooling2D, BatchNormalization\n",
        "```\n",
        "\n",
        "* **Dense**: Fully connected layer used at the end of CNNs for classification.\n",
        "* **Conv2D**: Convolution layer used for detecting spatial features in images.\n",
        "* **MaxPooling2D**: Downsamples feature maps to reduce size and computation.\n",
        "* **BatchNormalization**: Normalizes intermediate outputs to help models converge faster and avoid overfitting.\n",
        "\n",
        "---\n",
        "\n",
        "```python\n",
        "from tensorflow.keras.datasets import cifar10\n",
        "```\n",
        "\n",
        "* Loads the **CIFAR-10 dataset**, which consists of:\n",
        "\n",
        "  * **60,000 32x32 color images**\n",
        "  * **10 classes** (e.g., airplane, automobile, bird, cat, etc.)\n",
        "  * **50,000 training images** and **10,000 test images**\n",
        "\n",
        "---\n",
        "\n",
        "### ✅ Example usage after importing:\n",
        "\n",
        "```python\n",
        "(x_train, y_train), (x_test, y_test) = cifar10.load_data()\n",
        "```\n",
        "\n",
        "This will load and split the CIFAR-10 data into training and test sets.\n",
        "\n",
        "---\n",
        "\n"
      ],
      "metadata": {
        "id": "mW9ppCo1N5WH"
      }
    },
    {
      "cell_type": "code",
      "source": [
        "(x_train,y_train),(x_test,y_test)=cifar10.load_data()"
      ],
      "metadata": {
        "colab": {
          "base_uri": "https://localhost:8080/"
        },
        "id": "1bdNW7NhN88f",
        "outputId": "55707ca9-2c8b-491c-b928-84655afa9b3e"
      },
      "execution_count": 3,
      "outputs": [
        {
          "output_type": "stream",
          "name": "stdout",
          "text": [
            "Downloading data from https://www.cs.toronto.edu/~kriz/cifar-10-python.tar.gz\n",
            "\u001b[1m170498071/170498071\u001b[0m \u001b[32m━━━━━━━━━━━━━━━━━━━━\u001b[0m\u001b[37m\u001b[0m \u001b[1m5s\u001b[0m 0us/step\n"
          ]
        }
      ]
    },
    {
      "cell_type": "code",
      "source": [
        "x_train=x_train/255.0\n",
        "x_test=x_test/255.0"
      ],
      "metadata": {
        "id": "KE8lcrgfOIkm"
      },
      "execution_count": 4,
      "outputs": []
    },
    {
      "cell_type": "code",
      "source": [
        "from sklearn.model_selection import train_test_split\n",
        "x_train,x_val,y_train,y_val=train_test_split(x_train,y_train,test_size=0.2,random_state=42)"
      ],
      "metadata": {
        "id": "9j0Oc1_xOP-a"
      },
      "execution_count": 6,
      "outputs": []
    },
    {
      "cell_type": "code",
      "source": [
        "class CNNBlock(layers.Layer):\n",
        "  def __init__(self,output_channels,kernel_size=3):\n",
        "    super(CNNBlock,self).__init__()#super constructor\n",
        "    self.conv=Conv2D(output_channels,kernel_size)\n",
        "    self.bn=BatchNormalization()\n",
        "    self.pooling=MaxPooling2D()\n",
        "  def call(self,input): #you can either use call or forward.its the same\n",
        "    x=self.conv(input)\n",
        "    x=self.bn(x)\n",
        "    x=tf.nn.relu(x)\n",
        "    x=self.pooling(x)\n",
        "    return x"
      ],
      "metadata": {
        "id": "W_WRzllBOnNw"
      },
      "execution_count": 9,
      "outputs": []
    },
    {
      "cell_type": "markdown",
      "source": [
        "\n",
        "\n",
        "## 🔍 Explanation Line-by-Line:\n",
        "\n",
        "### 📦 Class Definition\n",
        "\n",
        "```python\n",
        "class CNNBlock(layers.Layer):\n",
        "```\n",
        "\n",
        "* This defines a **custom neural network block** by creating a new class called `CNNBlock`.\n",
        "* It **inherits** from `layers.Layer`, which is the base class for all custom layers in Keras.\n",
        "\n",
        "---\n",
        "\n",
        "### 🏗️ Constructor – `__init__()`:\n",
        "\n",
        "```python\n",
        "def __init__(self, output_channels, kernel_size=3):\n",
        "```\n",
        "\n",
        "* This is the **constructor** method. It initializes the block with parameters:\n",
        "\n",
        "  * `output_channels`: Number of filters for the convolution layer.\n",
        "  * `kernel_size`: Size of the convolution filter (default is 3x3).\n",
        "\n",
        "```python\n",
        "super(CNNBlock, self).__init__()\n",
        "```\n",
        "\n",
        "* This calls the **parent class (`Layer`) constructor** to ensure proper setup.\n",
        "* Without this, your custom layer won’t register weights or behave properly in a model.\n",
        "\n",
        "```python\n",
        "self.conv = Conv2D(output_channels, kernel_size)\n",
        "```\n",
        "\n",
        "* A **convolution layer** to extract spatial features from input images.\n",
        "\n",
        "```python\n",
        "self.bn = BatchNormalization()\n",
        "```\n",
        "\n",
        "* A **BatchNormalization** layer to normalize the output from the convolution, which helps training.\n",
        "\n",
        "```python\n",
        "self.pooling = MaxPooling2D()\n",
        "```\n",
        "\n",
        "* A **max pooling layer** that downsamples the feature map (e.g., from 32×32 to 16×16), reducing computational cost.\n",
        "\n",
        "---\n",
        "\n",
        "### ⚙️ Forward Pass – `call()`:\n",
        "\n",
        "```python\n",
        "def call(self, input):\n",
        "```\n",
        "\n",
        "* This defines the **forward pass**. When you call the model or layer, this function is executed.\n",
        "* `input` is the input tensor.\n",
        "\n",
        "```python\n",
        "x = self.conv(input)\n",
        "```\n",
        "\n",
        "* Applies the convolution operation.\n",
        "\n",
        "```python\n",
        "x = self.bn(x)\n",
        "```\n",
        "\n",
        "* Applies batch normalization to the convolution output.\n",
        "\n",
        "```python\n",
        "x = tf.nn.relu(x)\n",
        "```\n",
        "\n",
        "* Applies the **ReLU activation function**, adding non-linearity.\n",
        "\n",
        "```python\n",
        "x = self.pooling(x)\n",
        "```\n",
        "\n",
        "* Applies **max pooling** to reduce spatial dimensions.\n",
        "\n",
        "```python\n",
        "return x\n",
        "```\n",
        "\n",
        "* Returns the final transformed tensor.\n",
        "\n",
        "---\n",
        "\n",
        "## 🧠 Summary of Concepts:\n",
        "\n",
        "| Concept              | Purpose                                            |\n",
        "| -------------------- | -------------------------------------------------- |\n",
        "| `__init__()`         | Initializes layer components (Conv2D, BN, Pooling) |\n",
        "| `super()`            | Ensures correct inheritance from parent `Layer`    |\n",
        "| `call()`             | Describes how data flows through your custom block |\n",
        "| `Conv2D`             | Learns spatial features                            |\n",
        "| `BatchNormalization` | Stabilizes and speeds up training                  |\n",
        "| `ReLU`               | Adds non-linearity                                 |\n",
        "| `MaxPooling2D`       | Downsamples the feature maps                       |\n",
        "\n",
        "---\n",
        "\n"
      ],
      "metadata": {
        "id": "JqaFU5UUUatG"
      }
    },
    {
      "cell_type": "code",
      "source": [
        "model=Sequential([\n",
        "    CNNBlock(32),\n",
        "    CNNBlock(64),\n",
        "    CNNBlock(128),\n",
        "    layers.Flatten(),\n",
        "    layers.Dense(6,activation='relu'),\n",
        "    layers.Dense(10)\n",
        "])"
      ],
      "metadata": {
        "id": "uW_BbLMcUAx8"
      },
      "execution_count": 17,
      "outputs": []
    },
    {
      "cell_type": "markdown",
      "source": [
        "\n",
        "\n",
        "## ✅ Code Explained Line-by-Line:\n",
        "\n",
        "```python\n",
        "model = Sequential([\n",
        "    CNNBlock(32),\n",
        "    CNNBlock(64),\n",
        "    CNNBlock(128),\n",
        "    layers.Flatten(),\n",
        "    layers.Dense(6, activation='relu'),\n",
        "    layers.Dense(10)\n",
        "])\n",
        "```\n",
        "\n",
        "### 🔧 What Each Layer Does:\n",
        "\n",
        "1. **`CNNBlock(32)`**:\n",
        "\n",
        "   * Applies convolution (32 filters), batch normalization, ReLU, and max pooling.\n",
        "   * Output feature map gets smaller (due to pooling), but more informative (32 channels).\n",
        "\n",
        "2. **`CNNBlock(64)`**:\n",
        "\n",
        "   * Next CNN block with 64 filters.\n",
        "   * It makes the model deeper, learning more complex features.\n",
        "\n",
        "3. **`CNNBlock(128)`**:\n",
        "\n",
        "   * More filters (128), allowing the model to learn more detailed patterns.\n",
        "\n",
        "4. **`Flatten()`**:\n",
        "\n",
        "   * Converts the 2D feature maps to a 1D vector, preparing it for the Dense (fully connected) layer.\n",
        "\n",
        "5. **`Dense(6, activation='relu')`**:\n",
        "\n",
        "   * Fully connected layer with 6 neurons and ReLU activation.\n",
        "   * Learns high-level combinations of features.\n",
        "\n",
        "6. **`Dense(10)`**:\n",
        "\n",
        "   * Output layer with 10 neurons (for 10 classes in classification task like CIFAR-10).\n",
        "   * No activation here = outputs are raw logits.\n",
        "\n",
        "---\n",
        "\n",
        "## 📈 How to Increase Layers\n",
        "\n",
        "To make the model **deeper** (e.g., more CNN blocks or Dense layers), you can:\n",
        "\n",
        "### ✅ 1. Add More CNN Blocks\n",
        "\n",
        "```python\n",
        "model = Sequential([\n",
        "    CNNBlock(32),\n",
        "    CNNBlock(64),\n",
        "    CNNBlock(128),\n",
        "    CNNBlock(256),  # New added block\n",
        "    layers.Flatten(),\n",
        "    layers.Dense(128, activation='relu'),  # Changed to more units\n",
        "    layers.Dense(64, activation='relu'),   # Added one more dense layer\n",
        "    layers.Dense(10)  # Output remains same\n",
        "])\n",
        "```\n",
        "\n",
        "### ✅ 2. Tune Parameters\n",
        "\n",
        "You can also adjust:\n",
        "\n",
        "* `kernel_size` inside CNNBlock (default is 3)\n",
        "* `Dense` layer units (e.g., 128, 256)\n",
        "* `Dropout()` layers to prevent overfitting\n",
        "* Add `Activation()` like `softmax` to final layer (if using from\\_logits=False)\n",
        "\n",
        "### ✅ 3. Add Regularization (optional but recommended)\n",
        "\n",
        "```python\n",
        "layers.Conv2D(64, kernel_regularizer=regularizers.l2(0.01))\n",
        "layers.Dropout(0.5)\n",
        "```\n",
        "\n",
        "---\n",
        "\n",
        "## 🧠 Best Practices for Scaling:\n",
        "\n",
        "| Task               | How to Do It                                                         |\n",
        "| ------------------ | -------------------------------------------------------------------- |\n",
        "| Increase depth     | Add more `CNNBlock` layers                                           |\n",
        "| Increase capacity  | Increase filter count (e.g., 256 → 512)                              |\n",
        "| Reduce overfitting | Add `Dropout` and `BatchNormalization`                               |\n",
        "| Better accuracy    | Try adding `GlobalAveragePooling2D` instead of `Flatten()` sometimes |\n",
        "\n",
        "---\n",
        "\n"
      ],
      "metadata": {
        "id": "hscDZ8dmaxyp"
      }
    },
    {
      "cell_type": "code",
      "source": [
        "model.compile(loss=keras.losses.SparseCategoricalCrossentropy(from_logits=True),\n",
        "              optimizer=keras.optimizers.Adam(3e-4),\n",
        "              metrics=['accuracy'])"
      ],
      "metadata": {
        "id": "wmGEF38dUiR8"
      },
      "execution_count": 18,
      "outputs": []
    },
    {
      "cell_type": "code",
      "source": [
        "model.fit(x_train,y_train,epochs=10,batch_size=64,validation_data=(x_val,y_val))"
      ],
      "metadata": {
        "colab": {
          "base_uri": "https://localhost:8080/"
        },
        "id": "NHfOWmaXU52Q",
        "outputId": "ca5773e5-e08d-47d7-c200-694ae8a31447"
      },
      "execution_count": 19,
      "outputs": [
        {
          "output_type": "stream",
          "name": "stdout",
          "text": [
            "Epoch 1/10\n",
            "\u001b[1m625/625\u001b[0m \u001b[32m━━━━━━━━━━━━━━━━━━━━\u001b[0m\u001b[37m\u001b[0m \u001b[1m77s\u001b[0m 117ms/step - accuracy: 0.2626 - loss: 2.0992 - val_accuracy: 0.3385 - val_loss: 1.8376\n",
            "Epoch 2/10\n",
            "\u001b[1m625/625\u001b[0m \u001b[32m━━━━━━━━━━━━━━━━━━━━\u001b[0m\u001b[37m\u001b[0m \u001b[1m78s\u001b[0m 111ms/step - accuracy: 0.3981 - loss: 1.6635 - val_accuracy: 0.4684 - val_loss: 1.4862\n",
            "Epoch 3/10\n",
            "\u001b[1m625/625\u001b[0m \u001b[32m━━━━━━━━━━━━━━━━━━━━\u001b[0m\u001b[37m\u001b[0m \u001b[1m70s\u001b[0m 112ms/step - accuracy: 0.5371 - loss: 1.2634 - val_accuracy: 0.5417 - val_loss: 1.2659\n",
            "Epoch 4/10\n",
            "\u001b[1m625/625\u001b[0m \u001b[32m━━━━━━━━━━━━━━━━━━━━\u001b[0m\u001b[37m\u001b[0m \u001b[1m80s\u001b[0m 109ms/step - accuracy: 0.6117 - loss: 1.0812 - val_accuracy: 0.5757 - val_loss: 1.1752\n",
            "Epoch 5/10\n",
            "\u001b[1m625/625\u001b[0m \u001b[32m━━━━━━━━━━━━━━━━━━━━\u001b[0m\u001b[37m\u001b[0m \u001b[1m85s\u001b[0m 114ms/step - accuracy: 0.6541 - loss: 0.9763 - val_accuracy: 0.5781 - val_loss: 1.1894\n",
            "Epoch 6/10\n",
            "\u001b[1m625/625\u001b[0m \u001b[32m━━━━━━━━━━━━━━━━━━━━\u001b[0m\u001b[37m\u001b[0m \u001b[1m69s\u001b[0m 110ms/step - accuracy: 0.6884 - loss: 0.8874 - val_accuracy: 0.5979 - val_loss: 1.1142\n",
            "Epoch 7/10\n",
            "\u001b[1m625/625\u001b[0m \u001b[32m━━━━━━━━━━━━━━━━━━━━\u001b[0m\u001b[37m\u001b[0m \u001b[1m68s\u001b[0m 109ms/step - accuracy: 0.7180 - loss: 0.8142 - val_accuracy: 0.5362 - val_loss: 1.3580\n",
            "Epoch 8/10\n",
            "\u001b[1m625/625\u001b[0m \u001b[32m━━━━━━━━━━━━━━━━━━━━\u001b[0m\u001b[37m\u001b[0m \u001b[1m85s\u001b[0m 114ms/step - accuracy: 0.7350 - loss: 0.7579 - val_accuracy: 0.6131 - val_loss: 1.1047\n",
            "Epoch 9/10\n",
            "\u001b[1m625/625\u001b[0m \u001b[32m━━━━━━━━━━━━━━━━━━━━\u001b[0m\u001b[37m\u001b[0m \u001b[1m78s\u001b[0m 124ms/step - accuracy: 0.7567 - loss: 0.6949 - val_accuracy: 0.6337 - val_loss: 1.0569\n",
            "Epoch 10/10\n",
            "\u001b[1m625/625\u001b[0m \u001b[32m━━━━━━━━━━━━━━━━━━━━\u001b[0m\u001b[37m\u001b[0m \u001b[1m75s\u001b[0m 112ms/step - accuracy: 0.7763 - loss: 0.6550 - val_accuracy: 0.6252 - val_loss: 1.0887\n"
          ]
        },
        {
          "output_type": "execute_result",
          "data": {
            "text/plain": [
              "<keras.src.callbacks.history.History at 0x7d325c1ab8d0>"
            ]
          },
          "metadata": {},
          "execution_count": 19
        }
      ]
    },
    {
      "cell_type": "code",
      "source": [
        "model.evaluate(x_test,y_test)"
      ],
      "metadata": {
        "colab": {
          "base_uri": "https://localhost:8080/"
        },
        "id": "ZVxJeeJmVF-c",
        "outputId": "f20357de-f21e-4535-c2e2-e259be1a5944"
      },
      "execution_count": 20,
      "outputs": [
        {
          "output_type": "stream",
          "name": "stdout",
          "text": [
            "\u001b[1m313/313\u001b[0m \u001b[32m━━━━━━━━━━━━━━━━━━━━\u001b[0m\u001b[37m\u001b[0m \u001b[1m5s\u001b[0m 15ms/step - accuracy: 0.6272 - loss: 1.1197\n"
          ]
        },
        {
          "output_type": "execute_result",
          "data": {
            "text/plain": [
              "[1.1248986721038818, 0.6237000226974487]"
            ]
          },
          "metadata": {},
          "execution_count": 20
        }
      ]
    },
    {
      "cell_type": "code",
      "source": [
        "model.save('cnnmodel.keras')"
      ],
      "metadata": {
        "id": "6LgEis8UbC96"
      },
      "execution_count": 24,
      "outputs": []
    }
  ]
}