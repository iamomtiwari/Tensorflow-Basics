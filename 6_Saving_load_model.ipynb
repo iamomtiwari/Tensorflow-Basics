{
  "nbformat": 4,
  "nbformat_minor": 0,
  "metadata": {
    "colab": {
      "provenance": [],
      "gpuType": "T4",
      "authorship_tag": "ABX9TyONapNYqu2z6M5s8y366B5j",
      "include_colab_link": true
    },
    "kernelspec": {
      "name": "python3",
      "display_name": "Python 3"
    },
    "language_info": {
      "name": "python"
    },
    "accelerator": "GPU"
  },
  "cells": [
    {
      "cell_type": "markdown",
      "metadata": {
        "id": "view-in-github",
        "colab_type": "text"
      },
      "source": [
        "<a href=\"https://colab.research.google.com/github/iamomtiwari/Tensorflow-Basics/blob/main/6_Saving_load_model.ipynb\" target=\"_parent\"><img src=\"https://colab.research.google.com/assets/colab-badge.svg\" alt=\"Open In Colab\"/></a>"
      ]
    },
    {
      "cell_type": "code",
      "execution_count": 1,
      "metadata": {
        "id": "1GRpG4CIcPfT"
      },
      "outputs": [],
      "source": [
        "import tensorflow as tf\n",
        "from tensorflow import keras\n",
        "from tensorflow.keras import layers\n",
        "from tensorflow.keras.datasets import mnist"
      ]
    },
    {
      "cell_type": "code",
      "source": [
        "(x_train,y_train),(x_test,y_test)=mnist.load_data()"
      ],
      "metadata": {
        "colab": {
          "base_uri": "https://localhost:8080/"
        },
        "id": "CLGPbx_2ccfu",
        "outputId": "ec572064-b115-4de3-988a-996cf98c4e24"
      },
      "execution_count": 2,
      "outputs": [
        {
          "output_type": "stream",
          "name": "stdout",
          "text": [
            "Downloading data from https://storage.googleapis.com/tensorflow/tf-keras-datasets/mnist.npz\n",
            "\u001b[1m11490434/11490434\u001b[0m \u001b[32m━━━━━━━━━━━━━━━━━━━━\u001b[0m\u001b[37m\u001b[0m \u001b[1m2s\u001b[0m 0us/step\n"
          ]
        }
      ]
    },
    {
      "cell_type": "code",
      "source": [
        "x_train=x_train.reshape(-1,28*28).astype(\"float32\")/255.0\n",
        "x_test=x_test.reshape(-1,28*28).astype(\"float32\")/255.0"
      ],
      "metadata": {
        "id": "iqZwzB6qclJA"
      },
      "execution_count": 3,
      "outputs": []
    },
    {
      "cell_type": "markdown",
      "source": [
        "🔍 Step-by-Step Explanation\n",
        "🟠 x_train and x_test\n",
        "These are NumPy arrays containing grayscale images from the MNIST dataset:\n",
        "\n",
        "Each image is 28x28 pixels.\n",
        "\n",
        "Shape of x_train is (60000, 28, 28) → 60,000 images.\n",
        "\n",
        "Shape of x_test is (10000, 28, 28).\n",
        "\n",
        "✅ reshape(-1, 28*28)\n",
        "Converts each 2D image (28×28) into a 1D array (flattened to 784 values).\n",
        "\n",
        "-1 automatically infers the number of samples.\n",
        "\n",
        "For example:\n",
        "\n",
        "(60000, 28, 28) → (60000, 784)\n",
        "\n",
        "Each row is a flattened image.\n",
        "\n",
        "✅ .astype(\"float32\")\n",
        "Converts pixel values from integers (0 to 255) to 32-bit floating point numbers.\n",
        "\n",
        "This is required by many deep learning frameworks like TensorFlow/Keras.\n",
        "\n",
        "✅ / 255.0\n",
        "Normalizes pixel values from [0, 255] → [0, 1].\n",
        "\n",
        "Neural networks train better when input features are scaled to a small, consistent range.\n",
        "\n",
        "🔁 Summary of What It Does:\n",
        "Operation\tPurpose\n",
        "reshape(-1, 784)\tFlatten each 28x28 image to a 1D vector\n",
        ".astype(\"float32\")\tEnsure data is in correct numeric format\n",
        "/ 255.0\tNormalize pixel values to range [0, 1]\n",
        "\n",
        "✅ After this step, x_train and x_test are ready to be fed into a fully connected neural network."
      ],
      "metadata": {
        "id": "fAIzWkvRdHpz"
      }
    },
    {
      "cell_type": "code",
      "source": [
        "model=keras.Sequential([layers.Dense(64,activation='relu'),layers.Dense(10)])"
      ],
      "metadata": {
        "id": "DjsF5Gsscq2A"
      },
      "execution_count": 4,
      "outputs": []
    },
    {
      "cell_type": "code",
      "source": [
        "model.compile(\n",
        "    loss=keras.losses.SparseCategoricalCrossentropy(from_logits=True),\n",
        "    optimizer=keras.optimizers.Adam(),\n",
        "    metrics=['accuracy']\n",
        ")"
      ],
      "metadata": {
        "id": "KX2JKRH8dYfC"
      },
      "execution_count": 5,
      "outputs": []
    },
    {
      "cell_type": "markdown",
      "source": [
        "✅ What model.compile() Does:\n",
        "It configures the model for training by specifying:\n",
        "\n",
        "Loss function\n",
        "\n",
        "Optimizer\n",
        "\n",
        "Evaluation metric(s)\n",
        "\n",
        "🔹 loss=keras.losses.SparseCategoricalCrossentropy(from_logits=True)\n",
        "This sets the loss function for multi-class classification tasks.\n",
        "\n",
        "➤ SparseCategoricalCrossentropy\n",
        "Used when labels are integers (e.g., 0, 1, 2,..., 9).\n",
        "\n",
        "Suitable when you don't use one-hot encoding for your labels.\n",
        "\n",
        "➤ from_logits=True\n",
        "Tells Keras that your last layer does NOT apply a softmax, and outputs raw scores (logits).\n",
        "\n",
        "If from_logits=True, Keras will automatically apply softmax during loss calculation.\n",
        "\n",
        "⚠️ This must match your model:\n",
        "If your model's last layer is:\n",
        "\n",
        "python\n",
        "Copy\n",
        "Edit\n",
        "Dense(10)            # then use from_logits=True\n",
        "Dense(10, softmax)   # then use from_logits=False\n",
        "🔹 optimizer=keras.optimizers.Adam()\n",
        "Uses the Adam optimizer, which combines the advantages of RMSProp and SGD with momentum.\n",
        "\n",
        "It’s adaptive and commonly used for deep learning models.\n",
        "\n",
        "You can optionally set learning rate like Adam(learning_rate=0.001)\n",
        "\n",
        "🔹 metrics=['accuracy']\n",
        "Tells Keras to compute accuracy during training and evaluation."
      ],
      "metadata": {
        "id": "HNx4dan2d7z3"
      }
    },
    {
      "cell_type": "code",
      "source": [
        "model.fit(x_train,y_train,batch_size=32,epochs=2,verbose=2)"
      ],
      "metadata": {
        "colab": {
          "base_uri": "https://localhost:8080/"
        },
        "id": "8huEJ4rMdtLO",
        "outputId": "bc02fee0-a543-4680-867d-1a2597bc54e2"
      },
      "execution_count": 6,
      "outputs": [
        {
          "output_type": "stream",
          "name": "stdout",
          "text": [
            "Epoch 1/2\n",
            "1875/1875 - 7s - 4ms/step - accuracy: 0.9152 - loss: 0.3022\n",
            "Epoch 2/2\n",
            "1875/1875 - 9s - 5ms/step - accuracy: 0.9579 - loss: 0.1460\n"
          ]
        },
        {
          "output_type": "execute_result",
          "data": {
            "text/plain": [
              "<keras.src.callbacks.history.History at 0x7a0bb0c45d10>"
            ]
          },
          "metadata": {},
          "execution_count": 6
        }
      ]
    },
    {
      "cell_type": "code",
      "source": [
        "model.save_weights('mymodel6.weights.h5')# save model"
      ],
      "metadata": {
        "id": "ajvwgBzfd82H"
      },
      "execution_count": 14,
      "outputs": []
    },
    {
      "cell_type": "code",
      "source": [
        "#load model\n",
        "model.load_weights('mymodel6.weights.h5')"
      ],
      "metadata": {
        "id": "Y5a5sFU8e3N3"
      },
      "execution_count": 15,
      "outputs": []
    },
    {
      "cell_type": "code",
      "source": [
        "model.compile(loss=keras.losses.SparseCategoricalCrossentropy(from_logits=True),\n",
        "              optimizer=keras.optimizers.Adam(),\n",
        "              metrics=['accuracy'])"
      ],
      "metadata": {
        "id": "xR15ZSHSfB7z"
      },
      "execution_count": 18,
      "outputs": []
    },
    {
      "cell_type": "code",
      "source": [
        "model.fit(x_train,y_train,batch_size=32,epochs=2,verbose=1)"
      ],
      "metadata": {
        "colab": {
          "base_uri": "https://localhost:8080/"
        },
        "id": "b7lNEOgdffBK",
        "outputId": "6517b504-9693-450d-eca2-0330786bbc5d"
      },
      "execution_count": 19,
      "outputs": [
        {
          "output_type": "stream",
          "name": "stdout",
          "text": [
            "Epoch 1/2\n",
            "\u001b[1m1875/1875\u001b[0m \u001b[32m━━━━━━━━━━━━━━━━━━━━\u001b[0m\u001b[37m\u001b[0m \u001b[1m5s\u001b[0m 2ms/step - accuracy: 0.9681 - loss: 0.1075\n",
            "Epoch 2/2\n",
            "\u001b[1m1875/1875\u001b[0m \u001b[32m━━━━━━━━━━━━━━━━━━━━\u001b[0m\u001b[37m\u001b[0m \u001b[1m5s\u001b[0m 3ms/step - accuracy: 0.9759 - loss: 0.0819\n"
          ]
        },
        {
          "output_type": "execute_result",
          "data": {
            "text/plain": [
              "<keras.src.callbacks.history.History at 0x7a0afe355410>"
            ]
          },
          "metadata": {},
          "execution_count": 19
        }
      ]
    },
    {
      "cell_type": "code",
      "source": [
        "model.evaluate(x_test,y_test)"
      ],
      "metadata": {
        "colab": {
          "base_uri": "https://localhost:8080/"
        },
        "id": "UG_o0Xw_fsH2",
        "outputId": "79e4b9cf-e2e8-4f4c-e5b5-76d815a8bc9a"
      },
      "execution_count": 20,
      "outputs": [
        {
          "output_type": "stream",
          "name": "stdout",
          "text": [
            "\u001b[1m313/313\u001b[0m \u001b[32m━━━━━━━━━━━━━━━━━━━━\u001b[0m\u001b[37m\u001b[0m \u001b[1m1s\u001b[0m 3ms/step - accuracy: 0.9695 - loss: 0.1052\n"
          ]
        },
        {
          "output_type": "execute_result",
          "data": {
            "text/plain": [
              "[0.09119656682014465, 0.9728000164031982]"
            ]
          },
          "metadata": {},
          "execution_count": 20
        }
      ]
    },
    {
      "cell_type": "code",
      "source": [
        "model.save('mymodel6a.keras')"
      ],
      "metadata": {
        "id": "bdj7vOSQfy5C"
      },
      "execution_count": 21,
      "outputs": []
    },
    {
      "cell_type": "code",
      "source": [
        "loaded_model=keras.models.load_model('mymodel6a.keras')"
      ],
      "metadata": {
        "id": "IsOM5cm7gCYW"
      },
      "execution_count": 23,
      "outputs": []
    },
    {
      "cell_type": "code",
      "source": [
        "loaded_model.evaluate(x_test,y_test)"
      ],
      "metadata": {
        "colab": {
          "base_uri": "https://localhost:8080/"
        },
        "id": "2momq3Qsf73A",
        "outputId": "8ccf5e8e-fa1e-44bb-beaa-7060b3130283"
      },
      "execution_count": 24,
      "outputs": [
        {
          "output_type": "stream",
          "name": "stdout",
          "text": [
            "\u001b[1m313/313\u001b[0m \u001b[32m━━━━━━━━━━━━━━━━━━━━\u001b[0m\u001b[37m\u001b[0m \u001b[1m1s\u001b[0m 3ms/step - accuracy: 0.9695 - loss: 0.1052\n"
          ]
        },
        {
          "output_type": "execute_result",
          "data": {
            "text/plain": [
              "[0.09119656682014465, 0.9728000164031982]"
            ]
          },
          "metadata": {},
          "execution_count": 24
        }
      ]
    },
    {
      "cell_type": "code",
      "source": [
        "loaded_model.fit(x_train,y_train,epochs=2,batch_size=32,verbose=2)"
      ],
      "metadata": {
        "colab": {
          "base_uri": "https://localhost:8080/"
        },
        "id": "DEsQLiENgLtS",
        "outputId": "fdfcbf18-4bdb-445e-9347-ff84bf77c0a0"
      },
      "execution_count": 26,
      "outputs": [
        {
          "output_type": "stream",
          "name": "stdout",
          "text": [
            "Epoch 1/2\n",
            "1875/1875 - 5s - 3ms/step - accuracy: 0.9793 - loss: 0.0689\n",
            "Epoch 2/2\n",
            "1875/1875 - 4s - 2ms/step - accuracy: 0.9826 - loss: 0.0569\n"
          ]
        },
        {
          "output_type": "execute_result",
          "data": {
            "text/plain": [
              "<keras.src.callbacks.history.History at 0x7a0afe2418d0>"
            ]
          },
          "metadata": {},
          "execution_count": 26
        }
      ]
    },
    {
      "cell_type": "code",
      "source": [
        "loaded_model.evaluate(x_test,y_test)"
      ],
      "metadata": {
        "colab": {
          "base_uri": "https://localhost:8080/"
        },
        "id": "FbBzSnEXgYLs",
        "outputId": "aa726fe5-8ce7-4b5b-afa9-450254982c9a"
      },
      "execution_count": 27,
      "outputs": [
        {
          "output_type": "stream",
          "name": "stdout",
          "text": [
            "\u001b[1m313/313\u001b[0m \u001b[32m━━━━━━━━━━━━━━━━━━━━\u001b[0m\u001b[37m\u001b[0m \u001b[1m1s\u001b[0m 3ms/step - accuracy: 0.9706 - loss: 0.1011\n"
          ]
        },
        {
          "output_type": "execute_result",
          "data": {
            "text/plain": [
              "[0.08613872528076172, 0.9750000238418579]"
            ]
          },
          "metadata": {},
          "execution_count": 27
        }
      ]
    }
  ]
}