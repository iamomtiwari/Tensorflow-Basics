{
  "nbformat": 4,
  "nbformat_minor": 0,
  "metadata": {
    "colab": {
      "provenance": [],
      "authorship_tag": "ABX9TyN3gycRx7hKvG4mgYB0fR+u",
      "include_colab_link": true
    },
    "kernelspec": {
      "name": "python3",
      "display_name": "Python 3"
    },
    "language_info": {
      "name": "python"
    }
  },
  "cells": [
    {
      "cell_type": "markdown",
      "metadata": {
        "id": "view-in-github",
        "colab_type": "text"
      },
      "source": [
        "<a href=\"https://colab.research.google.com/github/iamomtiwari/Tensorflow-Basics/blob/main/3_CNN.ipynb\" target=\"_parent\"><img src=\"https://colab.research.google.com/assets/colab-badge.svg\" alt=\"Open In Colab\"/></a>"
      ]
    },
    {
      "cell_type": "code",
      "execution_count": 1,
      "metadata": {
        "id": "mejNLaXdNzAC"
      },
      "outputs": [],
      "source": [
        "import tensorflow as tf\n",
        "from tensorflow import keras\n",
        "from tensorflow.keras import Sequential,layers,regularizers\n",
        "from tensorflow.keras.layers import Dense,Flatten,Conv2D,MaxPool2D\n",
        "from tensorflow.keras.datasets import cifar10"
      ]
    },
    {
      "cell_type": "code",
      "source": [
        "(x_train,y_train),(x_test,y_test)=cifar10.load_data()"
      ],
      "metadata": {
        "colab": {
          "base_uri": "https://localhost:8080/"
        },
        "id": "KjHPzkZFOV2I",
        "outputId": "feea914b-c3a7-418c-e9ad-096ac57c7457"
      },
      "execution_count": 2,
      "outputs": [
        {
          "output_type": "stream",
          "name": "stdout",
          "text": [
            "Downloading data from https://www.cs.toronto.edu/~kriz/cifar-10-python.tar.gz\n",
            "\u001b[1m170498071/170498071\u001b[0m \u001b[32m━━━━━━━━━━━━━━━━━━━━\u001b[0m\u001b[37m\u001b[0m \u001b[1m3s\u001b[0m 0us/step\n"
          ]
        }
      ]
    },
    {
      "cell_type": "code",
      "source": [
        "x_train=x_train.astype('float32')/255.0\n",
        "x_test=x_test.astype('float32')/255.0"
      ],
      "metadata": {
        "id": "k4cNN6F_OfdK"
      },
      "execution_count": 3,
      "outputs": []
    },
    {
      "cell_type": "code",
      "source": [
        "from sklearn.model_selection import train_test_split\n",
        "x_train,x_val,y_train,y_val=train_test_split(x_train,y_train,test_size=0.2,random_state=42)"
      ],
      "metadata": {
        "id": "0uTigHdNOr3s"
      },
      "execution_count": 4,
      "outputs": []
    },
    {
      "cell_type": "code",
      "source": [
        "model=Sequential(\n",
        "    [\n",
        "        keras.Input(shape=(32,32,3)),\n",
        "        layers.Conv2D(32,3,activation='relu'),\n",
        "        layers.MaxPool2D(2),\n",
        "        layers.Conv2D(64,3,activation='relu'),\n",
        "        layers.MaxPool2D(2),\n",
        "        layers.Conv2D(128,3,activation='relu'),\n",
        "        layers.MaxPool2D(2),\n",
        "        layers.Flatten(),\n",
        "        layers.Dense(64,activation='relu'),\n",
        "        layers.Dense(10)\n",
        "    ]\n",
        ")"
      ],
      "metadata": {
        "id": "DGJIEnCXPJwF"
      },
      "execution_count": 5,
      "outputs": []
    },
    {
      "cell_type": "markdown",
      "source": [
        " Explanation of Each Layer:\n",
        "1. keras.Input(shape=(32, 32, 3))\n",
        "Input images of size 32×32 pixels with 3 color channels (RGB).\n",
        "\n",
        "2. layers.Conv2D(32, 3, activation='relu')\n",
        "Applies 32 filters of size 3x3 to the image.\n",
        "\n",
        "Learns features like edges or textures.\n",
        "\n",
        "ReLU activation adds non-linearity.\n",
        "\n",
        "3. layers.MaxPool2D(2)\n",
        "Reduces the spatial dimensions (width & height) by half using a 2x2 window.\n",
        "\n",
        "Helps in reducing computation and extracting dominant features.\n",
        "\n",
        "4. layers.Conv2D(64, 3, activation='relu')\n",
        "A deeper convolutional layer with 64 filters to extract more complex features.\n",
        "\n",
        "5. layers.MaxPool2D(2)\n",
        "Another pooling layer to reduce dimensionality.\n",
        "\n",
        "6. layers.Conv2D(128, 3, activation='relu')\n",
        "Even more filters (128) for learning detailed and abstract features.\n",
        "\n",
        "7. layers.MaxPool2D(2)\n",
        "Third pooling layer, continuing the pattern.\n",
        "\n",
        "8. layers.Flatten()\n",
        "Converts the 3D output from the last conv layer into a 1D vector to feed into dense layers.\n",
        "\n",
        "9. layers.Dense(64, activation='relu')\n",
        "Fully connected layer with 64 neurons.\n",
        "\n",
        "Learns high-level combinations of the features.\n",
        "\n",
        "10. layers.Dense(10)\n",
        "Final output layer with 10 neurons (for 10 classes, like CIFAR-10).\n",
        "\n",
        "No activation here, so output will be logits (raw scores).\n",
        "\n",
        "🔹 You’ll typically use Softmax during evaluation or in the loss function (SparseCategoricalCrossentropy(from_logits=True))."
      ],
      "metadata": {
        "id": "5hgiV8taQLp1"
      }
    },
    {
      "cell_type": "code",
      "source": [
        "model.compile(loss=keras.losses.SparseCategoricalCrossentropy(from_logits=True),optimizer=keras.optimizers.Adam(learning_rate=0.001),metrics=['accuracy'])"
      ],
      "metadata": {
        "id": "6n7e84UEQMJy"
      },
      "execution_count": 6,
      "outputs": []
    },
    {
      "cell_type": "code",
      "source": [
        "model.summary()"
      ],
      "metadata": {
        "colab": {
          "base_uri": "https://localhost:8080/",
          "height": 417
        },
        "id": "4cV3hmwsSVOr",
        "outputId": "08665471-b4c3-419a-b103-0e88259e4c8b"
      },
      "execution_count": 7,
      "outputs": [
        {
          "output_type": "display_data",
          "data": {
            "text/plain": [
              "\u001b[1mModel: \"sequential\"\u001b[0m\n"
            ],
            "text/html": [
              "<pre style=\"white-space:pre;overflow-x:auto;line-height:normal;font-family:Menlo,'DejaVu Sans Mono',consolas,'Courier New',monospace\"><span style=\"font-weight: bold\">Model: \"sequential\"</span>\n",
              "</pre>\n"
            ]
          },
          "metadata": {}
        },
        {
          "output_type": "display_data",
          "data": {
            "text/plain": [
              "┏━━━━━━━━━━━━━━━━━━━━━━━━━━━━━━━━━┳━━━━━━━━━━━━━━━━━━━━━━━━┳━━━━━━━━━━━━━━━┓\n",
              "┃\u001b[1m \u001b[0m\u001b[1mLayer (type)                   \u001b[0m\u001b[1m \u001b[0m┃\u001b[1m \u001b[0m\u001b[1mOutput Shape          \u001b[0m\u001b[1m \u001b[0m┃\u001b[1m \u001b[0m\u001b[1m      Param #\u001b[0m\u001b[1m \u001b[0m┃\n",
              "┡━━━━━━━━━━━━━━━━━━━━━━━━━━━━━━━━━╇━━━━━━━━━━━━━━━━━━━━━━━━╇━━━━━━━━━━━━━━━┩\n",
              "│ conv2d (\u001b[38;5;33mConv2D\u001b[0m)                 │ (\u001b[38;5;45mNone\u001b[0m, \u001b[38;5;34m30\u001b[0m, \u001b[38;5;34m30\u001b[0m, \u001b[38;5;34m32\u001b[0m)     │           \u001b[38;5;34m896\u001b[0m │\n",
              "├─────────────────────────────────┼────────────────────────┼───────────────┤\n",
              "│ max_pooling2d (\u001b[38;5;33mMaxPooling2D\u001b[0m)    │ (\u001b[38;5;45mNone\u001b[0m, \u001b[38;5;34m15\u001b[0m, \u001b[38;5;34m15\u001b[0m, \u001b[38;5;34m32\u001b[0m)     │             \u001b[38;5;34m0\u001b[0m │\n",
              "├─────────────────────────────────┼────────────────────────┼───────────────┤\n",
              "│ conv2d_1 (\u001b[38;5;33mConv2D\u001b[0m)               │ (\u001b[38;5;45mNone\u001b[0m, \u001b[38;5;34m13\u001b[0m, \u001b[38;5;34m13\u001b[0m, \u001b[38;5;34m64\u001b[0m)     │        \u001b[38;5;34m18,496\u001b[0m │\n",
              "├─────────────────────────────────┼────────────────────────┼───────────────┤\n",
              "│ max_pooling2d_1 (\u001b[38;5;33mMaxPooling2D\u001b[0m)  │ (\u001b[38;5;45mNone\u001b[0m, \u001b[38;5;34m6\u001b[0m, \u001b[38;5;34m6\u001b[0m, \u001b[38;5;34m64\u001b[0m)       │             \u001b[38;5;34m0\u001b[0m │\n",
              "├─────────────────────────────────┼────────────────────────┼───────────────┤\n",
              "│ conv2d_2 (\u001b[38;5;33mConv2D\u001b[0m)               │ (\u001b[38;5;45mNone\u001b[0m, \u001b[38;5;34m4\u001b[0m, \u001b[38;5;34m4\u001b[0m, \u001b[38;5;34m128\u001b[0m)      │        \u001b[38;5;34m73,856\u001b[0m │\n",
              "├─────────────────────────────────┼────────────────────────┼───────────────┤\n",
              "│ max_pooling2d_2 (\u001b[38;5;33mMaxPooling2D\u001b[0m)  │ (\u001b[38;5;45mNone\u001b[0m, \u001b[38;5;34m2\u001b[0m, \u001b[38;5;34m2\u001b[0m, \u001b[38;5;34m128\u001b[0m)      │             \u001b[38;5;34m0\u001b[0m │\n",
              "├─────────────────────────────────┼────────────────────────┼───────────────┤\n",
              "│ flatten (\u001b[38;5;33mFlatten\u001b[0m)               │ (\u001b[38;5;45mNone\u001b[0m, \u001b[38;5;34m512\u001b[0m)            │             \u001b[38;5;34m0\u001b[0m │\n",
              "├─────────────────────────────────┼────────────────────────┼───────────────┤\n",
              "│ dense (\u001b[38;5;33mDense\u001b[0m)                   │ (\u001b[38;5;45mNone\u001b[0m, \u001b[38;5;34m64\u001b[0m)             │        \u001b[38;5;34m32,832\u001b[0m │\n",
              "├─────────────────────────────────┼────────────────────────┼───────────────┤\n",
              "│ dense_1 (\u001b[38;5;33mDense\u001b[0m)                 │ (\u001b[38;5;45mNone\u001b[0m, \u001b[38;5;34m10\u001b[0m)             │           \u001b[38;5;34m650\u001b[0m │\n",
              "└─────────────────────────────────┴────────────────────────┴───────────────┘\n"
            ],
            "text/html": [
              "<pre style=\"white-space:pre;overflow-x:auto;line-height:normal;font-family:Menlo,'DejaVu Sans Mono',consolas,'Courier New',monospace\">┏━━━━━━━━━━━━━━━━━━━━━━━━━━━━━━━━━┳━━━━━━━━━━━━━━━━━━━━━━━━┳━━━━━━━━━━━━━━━┓\n",
              "┃<span style=\"font-weight: bold\"> Layer (type)                    </span>┃<span style=\"font-weight: bold\"> Output Shape           </span>┃<span style=\"font-weight: bold\">       Param # </span>┃\n",
              "┡━━━━━━━━━━━━━━━━━━━━━━━━━━━━━━━━━╇━━━━━━━━━━━━━━━━━━━━━━━━╇━━━━━━━━━━━━━━━┩\n",
              "│ conv2d (<span style=\"color: #0087ff; text-decoration-color: #0087ff\">Conv2D</span>)                 │ (<span style=\"color: #00d7ff; text-decoration-color: #00d7ff\">None</span>, <span style=\"color: #00af00; text-decoration-color: #00af00\">30</span>, <span style=\"color: #00af00; text-decoration-color: #00af00\">30</span>, <span style=\"color: #00af00; text-decoration-color: #00af00\">32</span>)     │           <span style=\"color: #00af00; text-decoration-color: #00af00\">896</span> │\n",
              "├─────────────────────────────────┼────────────────────────┼───────────────┤\n",
              "│ max_pooling2d (<span style=\"color: #0087ff; text-decoration-color: #0087ff\">MaxPooling2D</span>)    │ (<span style=\"color: #00d7ff; text-decoration-color: #00d7ff\">None</span>, <span style=\"color: #00af00; text-decoration-color: #00af00\">15</span>, <span style=\"color: #00af00; text-decoration-color: #00af00\">15</span>, <span style=\"color: #00af00; text-decoration-color: #00af00\">32</span>)     │             <span style=\"color: #00af00; text-decoration-color: #00af00\">0</span> │\n",
              "├─────────────────────────────────┼────────────────────────┼───────────────┤\n",
              "│ conv2d_1 (<span style=\"color: #0087ff; text-decoration-color: #0087ff\">Conv2D</span>)               │ (<span style=\"color: #00d7ff; text-decoration-color: #00d7ff\">None</span>, <span style=\"color: #00af00; text-decoration-color: #00af00\">13</span>, <span style=\"color: #00af00; text-decoration-color: #00af00\">13</span>, <span style=\"color: #00af00; text-decoration-color: #00af00\">64</span>)     │        <span style=\"color: #00af00; text-decoration-color: #00af00\">18,496</span> │\n",
              "├─────────────────────────────────┼────────────────────────┼───────────────┤\n",
              "│ max_pooling2d_1 (<span style=\"color: #0087ff; text-decoration-color: #0087ff\">MaxPooling2D</span>)  │ (<span style=\"color: #00d7ff; text-decoration-color: #00d7ff\">None</span>, <span style=\"color: #00af00; text-decoration-color: #00af00\">6</span>, <span style=\"color: #00af00; text-decoration-color: #00af00\">6</span>, <span style=\"color: #00af00; text-decoration-color: #00af00\">64</span>)       │             <span style=\"color: #00af00; text-decoration-color: #00af00\">0</span> │\n",
              "├─────────────────────────────────┼────────────────────────┼───────────────┤\n",
              "│ conv2d_2 (<span style=\"color: #0087ff; text-decoration-color: #0087ff\">Conv2D</span>)               │ (<span style=\"color: #00d7ff; text-decoration-color: #00d7ff\">None</span>, <span style=\"color: #00af00; text-decoration-color: #00af00\">4</span>, <span style=\"color: #00af00; text-decoration-color: #00af00\">4</span>, <span style=\"color: #00af00; text-decoration-color: #00af00\">128</span>)      │        <span style=\"color: #00af00; text-decoration-color: #00af00\">73,856</span> │\n",
              "├─────────────────────────────────┼────────────────────────┼───────────────┤\n",
              "│ max_pooling2d_2 (<span style=\"color: #0087ff; text-decoration-color: #0087ff\">MaxPooling2D</span>)  │ (<span style=\"color: #00d7ff; text-decoration-color: #00d7ff\">None</span>, <span style=\"color: #00af00; text-decoration-color: #00af00\">2</span>, <span style=\"color: #00af00; text-decoration-color: #00af00\">2</span>, <span style=\"color: #00af00; text-decoration-color: #00af00\">128</span>)      │             <span style=\"color: #00af00; text-decoration-color: #00af00\">0</span> │\n",
              "├─────────────────────────────────┼────────────────────────┼───────────────┤\n",
              "│ flatten (<span style=\"color: #0087ff; text-decoration-color: #0087ff\">Flatten</span>)               │ (<span style=\"color: #00d7ff; text-decoration-color: #00d7ff\">None</span>, <span style=\"color: #00af00; text-decoration-color: #00af00\">512</span>)            │             <span style=\"color: #00af00; text-decoration-color: #00af00\">0</span> │\n",
              "├─────────────────────────────────┼────────────────────────┼───────────────┤\n",
              "│ dense (<span style=\"color: #0087ff; text-decoration-color: #0087ff\">Dense</span>)                   │ (<span style=\"color: #00d7ff; text-decoration-color: #00d7ff\">None</span>, <span style=\"color: #00af00; text-decoration-color: #00af00\">64</span>)             │        <span style=\"color: #00af00; text-decoration-color: #00af00\">32,832</span> │\n",
              "├─────────────────────────────────┼────────────────────────┼───────────────┤\n",
              "│ dense_1 (<span style=\"color: #0087ff; text-decoration-color: #0087ff\">Dense</span>)                 │ (<span style=\"color: #00d7ff; text-decoration-color: #00d7ff\">None</span>, <span style=\"color: #00af00; text-decoration-color: #00af00\">10</span>)             │           <span style=\"color: #00af00; text-decoration-color: #00af00\">650</span> │\n",
              "└─────────────────────────────────┴────────────────────────┴───────────────┘\n",
              "</pre>\n"
            ]
          },
          "metadata": {}
        },
        {
          "output_type": "display_data",
          "data": {
            "text/plain": [
              "\u001b[1m Total params: \u001b[0m\u001b[38;5;34m126,730\u001b[0m (495.04 KB)\n"
            ],
            "text/html": [
              "<pre style=\"white-space:pre;overflow-x:auto;line-height:normal;font-family:Menlo,'DejaVu Sans Mono',consolas,'Courier New',monospace\"><span style=\"font-weight: bold\"> Total params: </span><span style=\"color: #00af00; text-decoration-color: #00af00\">126,730</span> (495.04 KB)\n",
              "</pre>\n"
            ]
          },
          "metadata": {}
        },
        {
          "output_type": "display_data",
          "data": {
            "text/plain": [
              "\u001b[1m Trainable params: \u001b[0m\u001b[38;5;34m126,730\u001b[0m (495.04 KB)\n"
            ],
            "text/html": [
              "<pre style=\"white-space:pre;overflow-x:auto;line-height:normal;font-family:Menlo,'DejaVu Sans Mono',consolas,'Courier New',monospace\"><span style=\"font-weight: bold\"> Trainable params: </span><span style=\"color: #00af00; text-decoration-color: #00af00\">126,730</span> (495.04 KB)\n",
              "</pre>\n"
            ]
          },
          "metadata": {}
        },
        {
          "output_type": "display_data",
          "data": {
            "text/plain": [
              "\u001b[1m Non-trainable params: \u001b[0m\u001b[38;5;34m0\u001b[0m (0.00 B)\n"
            ],
            "text/html": [
              "<pre style=\"white-space:pre;overflow-x:auto;line-height:normal;font-family:Menlo,'DejaVu Sans Mono',consolas,'Courier New',monospace\"><span style=\"font-weight: bold\"> Non-trainable params: </span><span style=\"color: #00af00; text-decoration-color: #00af00\">0</span> (0.00 B)\n",
              "</pre>\n"
            ]
          },
          "metadata": {}
        }
      ]
    },
    {
      "cell_type": "code",
      "source": [
        "model.fit(x_train,y_train,batch_size=64,epochs=6,validation_data=(x_val,y_val),verbose=2)"
      ],
      "metadata": {
        "colab": {
          "base_uri": "https://localhost:8080/"
        },
        "id": "b5E_p8TKScgA",
        "outputId": "7b775823-40e3-4945-de39-4f582c107019"
      },
      "execution_count": 8,
      "outputs": [
        {
          "output_type": "stream",
          "name": "stdout",
          "text": [
            "Epoch 1/6\n",
            "625/625 - 57s - 91ms/step - accuracy: 0.4025 - loss: 1.6294 - val_accuracy: 0.5066 - val_loss: 1.3666\n",
            "Epoch 2/6\n",
            "625/625 - 82s - 131ms/step - accuracy: 0.5403 - loss: 1.2799 - val_accuracy: 0.5719 - val_loss: 1.2052\n",
            "Epoch 3/6\n",
            "625/625 - 56s - 90ms/step - accuracy: 0.6016 - loss: 1.1292 - val_accuracy: 0.5879 - val_loss: 1.1750\n",
            "Epoch 4/6\n",
            "625/625 - 54s - 87ms/step - accuracy: 0.6378 - loss: 1.0257 - val_accuracy: 0.6346 - val_loss: 1.0420\n",
            "Epoch 5/6\n",
            "625/625 - 81s - 130ms/step - accuracy: 0.6747 - loss: 0.9374 - val_accuracy: 0.6378 - val_loss: 1.0587\n",
            "Epoch 6/6\n",
            "625/625 - 84s - 134ms/step - accuracy: 0.6959 - loss: 0.8754 - val_accuracy: 0.6526 - val_loss: 1.0002\n"
          ]
        },
        {
          "output_type": "execute_result",
          "data": {
            "text/plain": [
              "<keras.src.callbacks.history.History at 0x795f1d08aa90>"
            ]
          },
          "metadata": {},
          "execution_count": 8
        }
      ]
    },
    {
      "cell_type": "code",
      "source": [
        "model.evaluate(x_test,y_test)"
      ],
      "metadata": {
        "id": "18gYHkYbSrTR",
        "colab": {
          "base_uri": "https://localhost:8080/"
        },
        "outputId": "ab87c40f-f0f5-40bc-b7ee-fb4b47dad46f"
      },
      "execution_count": 9,
      "outputs": [
        {
          "output_type": "stream",
          "name": "stdout",
          "text": [
            "\u001b[1m313/313\u001b[0m \u001b[32m━━━━━━━━━━━━━━━━━━━━\u001b[0m\u001b[37m\u001b[0m \u001b[1m4s\u001b[0m 13ms/step - accuracy: 0.6508 - loss: 1.0043\n"
          ]
        },
        {
          "output_type": "execute_result",
          "data": {
            "text/plain": [
              "[1.0066357851028442, 0.6504999995231628]"
            ]
          },
          "metadata": {},
          "execution_count": 9
        }
      ]
    },
    {
      "cell_type": "code",
      "source": [
        "inputs=keras.Input(shape=(32,32,3))\n",
        "x=layers.Conv2D(32,3)(inputs)\n",
        "x=layers.BatchNormalization()(x)\n",
        "x=keras.activations.relu(x)\n",
        "x=layers.MaxPool2D()(x)\n",
        "x=layers.Conv2D(64,3)(x)\n",
        "x=layers.BatchNormalization()(x)\n",
        "x=keras.activations.relu(x)\n",
        "x=layers.MaxPool2D()(x)\n",
        "x=layers.Conv2D(128,3)(x)\n",
        "x=layers.BatchNormalization()(x)\n",
        "x=keras.activations.relu(x)\n",
        "x=layers.MaxPool2D()(x)\n",
        "x=layers.Conv2D(256,3)(x)\n",
        "x=layers.BatchNormalization()(x)\n",
        "x=keras.activations.relu(x)\n",
        "x=layers.MaxPool2D()(x)\n",
        "x=layers.Flatten()(x)\n",
        "x=layers.Dense(64,activation='relu')(x)\n",
        "outputs=layers.Dense(10,activation='softmax')(x)\n",
        "model1=keras.Model(inputs=inputs,outputs=outputs)"
      ],
      "metadata": {
        "id": "AK7P1F8aSwtg"
      },
      "execution_count": 12,
      "outputs": []
    },
    {
      "cell_type": "markdown",
      "source": [
        " keras.Input(shape=(32, 32, 3))\n",
        "The input shape is 32x32 RGB images.\n",
        "\n",
        "🔹 layers.Conv2D(filters, kernel_size)\n",
        "Applies a convolutional filter to extract spatial features.\n",
        "\n",
        "The model stacks 4 convolutional blocks:\n",
        "\n",
        "32 filters → 64 → 128 → 256\n",
        "\n",
        "🔹 layers.BatchNormalization()\n",
        "Normalizes the output of the convolution layer before activation.\n",
        "\n",
        "Helps with training stability and convergence.\n",
        "\n",
        "🔹 keras.activations.relu(x)\n",
        "Applies the ReLU activation separately after batch normalization.\n",
        "\n",
        "You could also do activation='relu' inside Conv2D, but separating it gives more control, which is a good practice when using BatchNorm.\n",
        "\n",
        "🔹 layers.MaxPool2D()\n",
        "Reduces spatial dimensions (downsamples) to decrease computation and help generalization.\n",
        "\n",
        "🔹 layers.Flatten()\n",
        "Converts the final 3D output from the last convolutional block into a 1D vector.\n",
        "\n",
        "🔹 layers.Dense(64, activation='relu')\n",
        "A fully connected layer to learn high-level combinations of features.\n",
        "\n",
        "🔹 layers.Dense(10, activation='softmax')\n",
        "Final output layer for multi-class classification (10 classes).\n",
        "\n",
        "Softmax converts logits into probabilities summing to 1."
      ],
      "metadata": {
        "id": "tr_aZ7EG9zDO"
      }
    },
    {
      "cell_type": "code",
      "source": [
        "model1.compile(loss=keras.losses.SparseCategoricalCrossentropy(from_logits=False),\n",
        "               optimizer=keras.optimizers.Adam(learning_rate=0.001),\n",
        "               metrics=['accuracy'])"
      ],
      "metadata": {
        "id": "vF9ysu1G5NEY"
      },
      "execution_count": 15,
      "outputs": []
    },
    {
      "cell_type": "code",
      "source": [
        "model.fit(x_train,y_train,batch_size=64,epochs=10,validation_data=(x_val,y_val),verbose=2)"
      ],
      "metadata": {
        "colab": {
          "base_uri": "https://localhost:8080/"
        },
        "id": "3THCjYCA5lc5",
        "outputId": "56936704-1ee6-4ef0-db35-2c88d02db364"
      },
      "execution_count": 17,
      "outputs": [
        {
          "output_type": "stream",
          "name": "stdout",
          "text": [
            "Epoch 1/10\n",
            "625/625 - 64s - 102ms/step - accuracy: 0.7112 - loss: 0.8271 - val_accuracy: 0.6689 - val_loss: 0.9694\n",
            "Epoch 2/10\n",
            "625/625 - 73s - 116ms/step - accuracy: 0.7348 - loss: 0.7680 - val_accuracy: 0.6993 - val_loss: 0.8886\n",
            "Epoch 3/10\n",
            "625/625 - 55s - 88ms/step - accuracy: 0.7501 - loss: 0.7180 - val_accuracy: 0.6878 - val_loss: 0.9094\n",
            "Epoch 4/10\n",
            "625/625 - 83s - 132ms/step - accuracy: 0.7638 - loss: 0.6823 - val_accuracy: 0.7001 - val_loss: 0.8900\n",
            "Epoch 5/10\n",
            "625/625 - 81s - 129ms/step - accuracy: 0.7798 - loss: 0.6356 - val_accuracy: 0.7020 - val_loss: 0.9007\n",
            "Epoch 6/10\n",
            "625/625 - 81s - 129ms/step - accuracy: 0.7906 - loss: 0.5987 - val_accuracy: 0.7027 - val_loss: 0.9125\n",
            "Epoch 7/10\n",
            "625/625 - 82s - 131ms/step - accuracy: 0.8009 - loss: 0.5747 - val_accuracy: 0.7135 - val_loss: 0.9032\n",
            "Epoch 8/10\n",
            "625/625 - 55s - 88ms/step - accuracy: 0.8118 - loss: 0.5397 - val_accuracy: 0.7106 - val_loss: 0.9172\n",
            "Epoch 9/10\n",
            "625/625 - 83s - 132ms/step - accuracy: 0.8243 - loss: 0.5027 - val_accuracy: 0.7076 - val_loss: 0.9551\n",
            "Epoch 10/10\n",
            "625/625 - 81s - 130ms/step - accuracy: 0.8338 - loss: 0.4710 - val_accuracy: 0.7147 - val_loss: 0.9498\n"
          ]
        },
        {
          "output_type": "execute_result",
          "data": {
            "text/plain": [
              "<keras.src.callbacks.history.History at 0x795f068c0350>"
            ]
          },
          "metadata": {},
          "execution_count": 17
        }
      ]
    },
    {
      "cell_type": "code",
      "source": [
        "model.evaluate(x_test,y_test)"
      ],
      "metadata": {
        "colab": {
          "base_uri": "https://localhost:8080/"
        },
        "id": "0zAVjd4i57_l",
        "outputId": "3830d93a-02ca-4b7a-a714-67f775a24ddc"
      },
      "execution_count": 19,
      "outputs": [
        {
          "output_type": "stream",
          "name": "stdout",
          "text": [
            "\u001b[1m313/313\u001b[0m \u001b[32m━━━━━━━━━━━━━━━━━━━━\u001b[0m\u001b[37m\u001b[0m \u001b[1m4s\u001b[0m 13ms/step - accuracy: 0.7164 - loss: 0.9401\n"
          ]
        },
        {
          "output_type": "execute_result",
          "data": {
            "text/plain": [
              "[0.9561501741409302, 0.7093999981880188]"
            ]
          },
          "metadata": {},
          "execution_count": 19
        }
      ]
    },
    {
      "cell_type": "code",
      "source": [
        "input=keras.Input(shape=(32,32,3))\n",
        "x=layers.Conv2D(32,3,kernel_regularizer=regularizers.l2(0.01))(inputs)\n",
        "x=layers.BatchNormalization()(x)\n",
        "x=keras.activations.relu(x)\n",
        "x=layers.MaxPool2D()(x)\n",
        "x=layers.Conv2D(64,3,kernel_regularizer=regularizers.l2(0.01))(x)\n",
        "x=layers.BatchNormalization()(x)\n",
        "x=layers.MaxPool2D()(x)\n",
        "x=keras.activations.relu(x)\n",
        "x=layers.Conv2D(128,3,kernel_regularizer=regularizers.l2(0.01))(x)\n",
        "x=layers.BatchNormalization()(x)\n",
        "x=keras.activations.relu(x)\n",
        "x=layers.MaxPool2D()(x)\n",
        "x=layers.Flatten()(x)\n",
        "x=layers.Dense(64,activation='relu')(x)\n",
        "x=layers.Dropout(0.5)(x)\n",
        "outputs=layers.Dense(10,activation='softmax')(x)\n",
        "model2=keras.Model(inputs=inputs,outputs=outputs)"
      ],
      "metadata": {
        "id": "e69bFqRa54-4"
      },
      "execution_count": 25,
      "outputs": []
    },
    {
      "cell_type": "markdown",
      "source": [
        "\n",
        "```python\n",
        "input = keras.Input(shape=(32, 32, 3))\n",
        "```\n",
        "\n",
        "* Defines the **input layer** for your model.\n",
        "* `shape=(32,32,3)` means the model expects 32x32 RGB images (3 channels).\n",
        "* This is a **Keras Functional API** style input placeholder.\n",
        "\n",
        "---\n",
        "\n",
        "```python\n",
        "x = layers.Conv2D(32, 3, kernel_regularizer=regularizers.l2(0.01))(inputs)\n",
        "```\n",
        "\n",
        "* Applies a **2D convolution** with:\n",
        "\n",
        "  * `32 filters` of size 3x3.\n",
        "  * `kernel_regularizer=regularizers.l2(0.01)` applies **L2 regularization** to prevent overfitting by penalizing large weights.\n",
        "* The output is a **feature map** of size `(30, 30, 32)` by default (no padding).\n",
        "* This layer is connected to the input.\n",
        "\n",
        "---\n",
        "\n",
        "```python\n",
        "x = layers.BatchNormalization()(x)\n",
        "```\n",
        "\n",
        "* **Normalizes the output** from the previous Conv2D layer.\n",
        "* Helps the model converge faster and increases stability.\n",
        "* It keeps the mean ≈ 0 and std ≈ 1 for each batch during training.\n",
        "\n",
        "---\n",
        "\n",
        "```python\n",
        "x = keras.activations.relu(x)\n",
        "```\n",
        "\n",
        "* Applies the **ReLU (Rectified Linear Unit)** activation function manually.\n",
        "* ReLU introduces non-linearity: `f(x) = max(0, x)`\n",
        "\n",
        "---\n",
        "\n",
        "```python\n",
        "x = layers.MaxPool2D()(x)\n",
        "```\n",
        "\n",
        "* **Downsamples** the feature map using a 2x2 pool by default.\n",
        "* Reduces spatial dimensions (e.g., from 30x30 to 15x15).\n",
        "* Helps reduce computation and extract dominant features.\n",
        "\n",
        "---\n",
        "\n",
        "```python\n",
        "x = layers.Conv2D(64, 3, kernel_regularizer=regularizers.l2(0.01))(x)\n",
        "```\n",
        "\n",
        "* Another convolution layer with:\n",
        "\n",
        "  * 64 filters\n",
        "  * 3x3 kernel\n",
        "  * L2 regularization\n",
        "* Extracts more complex features from the previous layer.\n",
        "\n",
        "---\n",
        "\n",
        "```python\n",
        "x = layers.BatchNormalization()(x)\n",
        "```\n",
        "\n",
        "* Again, normalizes activations after this Conv layer for better training.\n",
        "\n",
        "---\n",
        "\n",
        "```python\n",
        "x = layers.MaxPool2D()(x)\n",
        "```\n",
        "\n",
        "* Downsamples again using a max-pooling layer (default 2x2).\n",
        "\n",
        "---\n",
        "\n",
        "```python\n",
        "x = keras.activations.relu(x)\n",
        "```\n",
        "\n",
        "* Applies ReLU **after pooling**, which is a bit unusual (usually after Conv).\n",
        "* Still adds non-linearity to the data.\n",
        "\n",
        "---\n",
        "\n",
        "```python\n",
        "x = layers.Conv2D(128, 3, kernel_regularizer=regularizers.l2(0.01))(x)\n",
        "```\n",
        "\n",
        "* A third convolution layer:\n",
        "\n",
        "  * 128 filters\n",
        "  * 3x3 kernel\n",
        "  * L2 regularization\n",
        "* Captures even deeper visual patterns.\n",
        "\n",
        "---\n",
        "\n",
        "```python\n",
        "x = layers.BatchNormalization()(x)\n",
        "```\n",
        "\n",
        "* Normalizes output from the 128-filter Conv2D layer.\n",
        "\n",
        "---\n",
        "\n",
        "```python\n",
        "x = keras.activations.relu(x)\n",
        "```\n",
        "\n",
        "* Applies ReLU activation.\n",
        "\n",
        "---\n",
        "\n",
        "```python\n",
        "x = layers.MaxPool2D()(x)\n",
        "```\n",
        "\n",
        "* Further reduces spatial dimensions to shrink the feature map and prevent overfitting.\n",
        "\n",
        "---\n",
        "\n",
        "```python\n",
        "x = layers.Flatten()(x)\n",
        "```\n",
        "\n",
        "* Converts the 3D tensor (height, width, channels) into a **1D vector**.\n",
        "* Prepares it for fully connected (Dense) layers.\n",
        "\n",
        "---\n",
        "\n",
        "```python\n",
        "x = layers.Dense(64, activation='relu')(x)\n",
        "```\n",
        "\n",
        "* A **fully connected (dense) layer** with:\n",
        "\n",
        "  * 64 neurons\n",
        "  * ReLU activation\n",
        "* Learns high-level combinations of features.\n",
        "\n",
        "---\n",
        "\n",
        "```python\n",
        "x = layers.Dropout(0.5)(x)\n",
        "```\n",
        "\n",
        "* **Dropout** randomly turns off 50% of neurons during training.\n",
        "* Helps prevent overfitting by encouraging redundancy.\n",
        "\n",
        "---\n",
        "\n",
        "```python\n",
        "outputs = layers.Dense(10, activation='softmax')(x)\n",
        "```\n",
        "\n",
        "* **Output layer** with:\n",
        "\n",
        "  * 10 units (one for each class)\n",
        "  * `softmax` activation to output probabilities that sum to 1.\n",
        "* Used for multi-class classification.\n",
        "\n",
        "---\n",
        "\n",
        "```python\n",
        "model2 = keras.Model(inputs=inputs, outputs=outputs)\n",
        "```\n",
        "\n",
        "* Combines the **inputs and outputs** to create the full model object.\n",
        "* This model can now be compiled, trained, and evaluated.\n",
        "\n",
        "---\n",
        "\n",
        "### 🔍 Summary of Concepts Used:\n",
        "\n",
        "| Concept              | Purpose                                           |\n",
        "| -------------------- | ------------------------------------------------- |\n",
        "| `Conv2D`             | Extract spatial features                          |\n",
        "| `BatchNormalization` | Stabilize and speed up training                   |\n",
        "| `ReLU`               | Add non-linearity                                 |\n",
        "| `MaxPooling2D`       | Reduce spatial dimensions                         |\n",
        "| `L2 Regularization`  | Penalize large weights to avoid overfitting       |\n",
        "| `Flatten`            | Convert 3D to 1D for dense layers                 |\n",
        "| `Dense`              | Learn complex combinations of features            |\n",
        "| `Dropout`            | Prevent overfitting by random neuron deactivation |\n",
        "| `Softmax`            | Output class probabilities                        |\n",
        "\n"
      ],
      "metadata": {
        "id": "m-Jtt6zDG-bW"
      }
    },
    {
      "cell_type": "code",
      "source": [
        "model2.compile(loss=keras.losses.SparseCategoricalCrossentropy(from_logits=False),\n",
        "               optimizer=keras.optimizers.Adam(learning_rate=3e-4),\n",
        "               metrics=['accuracy']\n",
        "               )"
      ],
      "metadata": {
        "id": "jmqUHTsEBGtf"
      },
      "execution_count": 27,
      "outputs": []
    },
    {
      "cell_type": "code",
      "source": [
        "model2.fit(x_train,y_train,batch_size=64,epochs=10,validation_data=(x_val,y_val),verbose=1)"
      ],
      "metadata": {
        "colab": {
          "base_uri": "https://localhost:8080/"
        },
        "id": "BOVsGlpuDBcr",
        "outputId": "d8c0921f-74db-4e80-af12-db066e7f753a"
      },
      "execution_count": 28,
      "outputs": [
        {
          "output_type": "stream",
          "name": "stdout",
          "text": [
            "Epoch 1/10\n",
            "\u001b[1m625/625\u001b[0m \u001b[32m━━━━━━━━━━━━━━━━━━━━\u001b[0m\u001b[37m\u001b[0m \u001b[1m84s\u001b[0m 129ms/step - accuracy: 0.2750 - loss: 3.2577 - val_accuracy: 0.4168 - val_loss: 2.3976\n",
            "Epoch 2/10\n",
            "\u001b[1m625/625\u001b[0m \u001b[32m━━━━━━━━━━━━━━━━━━━━\u001b[0m\u001b[37m\u001b[0m \u001b[1m84s\u001b[0m 132ms/step - accuracy: 0.4595 - loss: 2.2223 - val_accuracy: 0.4915 - val_loss: 1.9495\n",
            "Epoch 3/10\n",
            "\u001b[1m625/625\u001b[0m \u001b[32m━━━━━━━━━━━━━━━━━━━━\u001b[0m\u001b[37m\u001b[0m \u001b[1m85s\u001b[0m 136ms/step - accuracy: 0.5283 - loss: 1.7917 - val_accuracy: 0.5515 - val_loss: 1.6178\n",
            "Epoch 4/10\n",
            "\u001b[1m625/625\u001b[0m \u001b[32m━━━━━━━━━━━━━━━━━━━━\u001b[0m\u001b[37m\u001b[0m \u001b[1m138s\u001b[0m 130ms/step - accuracy: 0.5822 - loss: 1.5368 - val_accuracy: 0.6209 - val_loss: 1.3639\n",
            "Epoch 5/10\n",
            "\u001b[1m625/625\u001b[0m \u001b[32m━━━━━━━━━━━━━━━━━━━━\u001b[0m\u001b[37m\u001b[0m \u001b[1m81s\u001b[0m 128ms/step - accuracy: 0.6106 - loss: 1.3969 - val_accuracy: 0.5893 - val_loss: 1.3928\n",
            "Epoch 6/10\n",
            "\u001b[1m625/625\u001b[0m \u001b[32m━━━━━━━━━━━━━━━━━━━━\u001b[0m\u001b[37m\u001b[0m \u001b[1m81s\u001b[0m 129ms/step - accuracy: 0.6384 - loss: 1.2892 - val_accuracy: 0.6365 - val_loss: 1.2277\n",
            "Epoch 7/10\n",
            "\u001b[1m625/625\u001b[0m \u001b[32m━━━━━━━━━━━━━━━━━━━━\u001b[0m\u001b[37m\u001b[0m \u001b[1m86s\u001b[0m 136ms/step - accuracy: 0.6545 - loss: 1.2161 - val_accuracy: 0.6783 - val_loss: 1.1348\n",
            "Epoch 8/10\n",
            "\u001b[1m625/625\u001b[0m \u001b[32m━━━━━━━━━━━━━━━━━━━━\u001b[0m\u001b[37m\u001b[0m \u001b[1m138s\u001b[0m 129ms/step - accuracy: 0.6699 - loss: 1.1630 - val_accuracy: 0.6499 - val_loss: 1.2007\n",
            "Epoch 9/10\n",
            "\u001b[1m625/625\u001b[0m \u001b[32m━━━━━━━━━━━━━━━━━━━━\u001b[0m\u001b[37m\u001b[0m \u001b[1m81s\u001b[0m 128ms/step - accuracy: 0.6778 - loss: 1.1297 - val_accuracy: 0.6312 - val_loss: 1.2337\n",
            "Epoch 10/10\n",
            "\u001b[1m625/625\u001b[0m \u001b[32m━━━━━━━━━━━━━━━━━━━━\u001b[0m\u001b[37m\u001b[0m \u001b[1m81s\u001b[0m 130ms/step - accuracy: 0.6938 - loss: 1.0841 - val_accuracy: 0.6320 - val_loss: 1.2628\n"
          ]
        },
        {
          "output_type": "execute_result",
          "data": {
            "text/plain": [
              "<keras.src.callbacks.history.History at 0x795f0675f650>"
            ]
          },
          "metadata": {},
          "execution_count": 28
        }
      ]
    },
    {
      "cell_type": "code",
      "source": [],
      "metadata": {
        "id": "41gMSthZHHG3"
      },
      "execution_count": null,
      "outputs": []
    }
  ]
}